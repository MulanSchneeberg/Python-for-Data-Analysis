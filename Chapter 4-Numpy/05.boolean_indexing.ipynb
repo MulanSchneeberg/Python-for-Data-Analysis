{
 "cells": [
  {
   "cell_type": "code",
   "execution_count": 26,
   "metadata": {},
   "outputs": [
    {
     "data": {
      "text/plain": [
       "array(['Bob', 'Joe', 'Will', 'Bob', 'Will', 'Joe', 'Joe'], dtype='<U4')"
      ]
     },
     "execution_count": 26,
     "metadata": {},
     "output_type": "execute_result"
    }
   ],
   "source": [
    "import numpy as np\n",
    "\n",
    "names= np.array(['Bob', 'Joe', 'Will', 'Bob', 'Will', 'Joe', 'Joe'])\n",
    "names"
   ]
  },
  {
   "cell_type": "code",
   "execution_count": 27,
   "metadata": {},
   "outputs": [
    {
     "data": {
      "text/plain": [
       "array([[ 1.31174119, -1.90377182, -0.5509565 , -1.21709021],\n",
       "       [ 1.40697747,  0.10944824,  0.27864003,  0.56909743],\n",
       "       [ 0.31938121,  0.63669644,  0.60790982, -0.29961088],\n",
       "       [ 1.08294464,  0.80382305, -0.07002043,  0.43926694],\n",
       "       [-0.25502022, -0.14111162, -0.85975088, -0.46905343],\n",
       "       [ 1.04276638, -0.70095718, -2.14540332,  0.2743693 ],\n",
       "       [ 0.05464611, -1.17810245,  0.96260817,  1.11419625]])"
      ]
     },
     "execution_count": 27,
     "metadata": {},
     "output_type": "execute_result"
    }
   ],
   "source": [
    "data=np.random.randn(7,4)\n",
    "data"
   ]
  },
  {
   "cell_type": "markdown",
   "metadata": {},
   "source": [
    "Suppose each name corresponds to a row in the data array and we want to find out all the rows with corresponding name 'Bob'\n"
   ]
  },
  {
   "cell_type": "code",
   "execution_count": 28,
   "metadata": {},
   "outputs": [
    {
     "data": {
      "text/plain": [
       "array([ True, False, False,  True, False, False, False])"
      ]
     },
     "execution_count": 28,
     "metadata": {},
     "output_type": "execute_result"
    }
   ],
   "source": [
    "names =='Bob'# vectorization"
   ]
  },
  {
   "cell_type": "code",
   "execution_count": 29,
   "metadata": {},
   "outputs": [
    {
     "data": {
      "text/plain": [
       "array([[ 1.31174119, -1.90377182, -0.5509565 , -1.21709021],\n",
       "       [ 1.08294464,  0.80382305, -0.07002043,  0.43926694]])"
      ]
     },
     "execution_count": 29,
     "metadata": {},
     "output_type": "execute_result"
    }
   ],
   "source": [
    "data[names=='Bob']"
   ]
  },
  {
   "cell_type": "markdown",
   "metadata": {},
   "source": [
    "The boolean array must be of the same length as the array axis it's indexing"
   ]
  },
  {
   "cell_type": "code",
   "execution_count": 30,
   "metadata": {},
   "outputs": [
    {
     "data": {
      "text/plain": [
       "array([[ 1.31174119, -1.90377182, -0.5509565 , -1.21709021],\n",
       "       [ 1.08294464,  0.80382305, -0.07002043,  0.43926694]])"
      ]
     },
     "execution_count": 30,
     "metadata": {},
     "output_type": "execute_result"
    }
   ],
   "source": [
    "data[names=='Bob', :]"
   ]
  },
  {
   "cell_type": "code",
   "execution_count": 31,
   "metadata": {},
   "outputs": [
    {
     "data": {
      "text/plain": [
       "array([[-1.90377182, -0.5509565 , -1.21709021],\n",
       "       [ 0.80382305, -0.07002043,  0.43926694]])"
      ]
     },
     "execution_count": 31,
     "metadata": {},
     "output_type": "execute_result"
    }
   ],
   "source": [
    "data[names=='Bob', 1:]"
   ]
  },
  {
   "cell_type": "code",
   "execution_count": 32,
   "metadata": {},
   "outputs": [
    {
     "data": {
      "text/plain": [
       "array([-1.21709021,  0.43926694])"
      ]
     },
     "execution_count": 32,
     "metadata": {},
     "output_type": "execute_result"
    }
   ],
   "source": [
    "data[names=='Bob', 3]"
   ]
  },
  {
   "cell_type": "code",
   "execution_count": 33,
   "metadata": {},
   "outputs": [
    {
     "data": {
      "text/plain": [
       "array([[ 1.40697747,  0.10944824,  0.27864003,  0.56909743],\n",
       "       [ 0.31938121,  0.63669644,  0.60790982, -0.29961088],\n",
       "       [-0.25502022, -0.14111162, -0.85975088, -0.46905343],\n",
       "       [ 1.04276638, -0.70095718, -2.14540332,  0.2743693 ],\n",
       "       [ 0.05464611, -1.17810245,  0.96260817,  1.11419625]])"
      ]
     },
     "execution_count": 33,
     "metadata": {},
     "output_type": "execute_result"
    }
   ],
   "source": [
    "# Select anything that is not Bob\n",
    "data[names !='Bob']"
   ]
  },
  {
   "cell_type": "code",
   "execution_count": 34,
   "metadata": {},
   "outputs": [
    {
     "data": {
      "text/plain": [
       "array([[ 1.40697747,  0.10944824,  0.27864003,  0.56909743],\n",
       "       [ 0.31938121,  0.63669644,  0.60790982, -0.29961088],\n",
       "       [-0.25502022, -0.14111162, -0.85975088, -0.46905343],\n",
       "       [ 1.04276638, -0.70095718, -2.14540332,  0.2743693 ],\n",
       "       [ 0.05464611, -1.17810245,  0.96260817,  1.11419625]])"
      ]
     },
     "execution_count": 34,
     "metadata": {},
     "output_type": "execute_result"
    }
   ],
   "source": [
    "data[~(names =='Bob')] # neglect"
   ]
  },
  {
   "cell_type": "markdown",
   "metadata": {},
   "source": [
    "The **~** operator can be useful when you want to invert a general condition"
   ]
  },
  {
   "cell_type": "code",
   "execution_count": 35,
   "metadata": {},
   "outputs": [
    {
     "data": {
      "text/plain": [
       "array([[ 1.40697747,  0.10944824,  0.27864003,  0.56909743],\n",
       "       [ 0.31938121,  0.63669644,  0.60790982, -0.29961088],\n",
       "       [-0.25502022, -0.14111162, -0.85975088, -0.46905343],\n",
       "       [ 1.04276638, -0.70095718, -2.14540332,  0.2743693 ],\n",
       "       [ 0.05464611, -1.17810245,  0.96260817,  1.11419625]])"
      ]
     },
     "execution_count": 35,
     "metadata": {},
     "output_type": "execute_result"
    }
   ],
   "source": [
    "condition=names=='Bob'\n",
    "data[~condition]\n",
    "\n"
   ]
  },
  {
   "cell_type": "code",
   "execution_count": 36,
   "metadata": {},
   "outputs": [
    {
     "data": {
      "text/plain": [
       "array([ True, False,  True,  True,  True, False, False])"
      ]
     },
     "execution_count": 36,
     "metadata": {},
     "output_type": "execute_result"
    }
   ],
   "source": [
    "condition2=(names=='Bob') | (names=='Will')\n",
    "condition2"
   ]
  },
  {
   "cell_type": "code",
   "execution_count": 37,
   "metadata": {},
   "outputs": [
    {
     "data": {
      "text/plain": [
       "array([[ 1.31174119, -1.90377182, -0.5509565 , -1.21709021],\n",
       "       [ 0.31938121,  0.63669644,  0.60790982, -0.29961088],\n",
       "       [ 1.08294464,  0.80382305, -0.07002043,  0.43926694],\n",
       "       [-0.25502022, -0.14111162, -0.85975088, -0.46905343]])"
      ]
     },
     "execution_count": 37,
     "metadata": {},
     "output_type": "execute_result"
    }
   ],
   "source": [
    "data[condition2]"
   ]
  },
  {
   "cell_type": "code",
   "execution_count": 38,
   "metadata": {},
   "outputs": [
    {
     "data": {
      "text/plain": [
       "array([[ 1.40697747,  0.10944824,  0.27864003,  0.56909743],\n",
       "       [ 1.04276638, -0.70095718, -2.14540332,  0.2743693 ],\n",
       "       [ 0.05464611, -1.17810245,  0.96260817,  1.11419625]])"
      ]
     },
     "execution_count": 38,
     "metadata": {},
     "output_type": "execute_result"
    }
   ],
   "source": [
    "data[~condition2]"
   ]
  },
  {
   "cell_type": "code",
   "execution_count": 39,
   "metadata": {},
   "outputs": [
    {
     "data": {
      "text/plain": [
       "array([[1.31174119, 0.        , 0.        , 0.        ],\n",
       "       [1.40697747, 0.10944824, 0.27864003, 0.56909743],\n",
       "       [0.31938121, 0.63669644, 0.60790982, 0.        ],\n",
       "       [1.08294464, 0.80382305, 0.        , 0.43926694],\n",
       "       [0.        , 0.        , 0.        , 0.        ],\n",
       "       [1.04276638, 0.        , 0.        , 0.2743693 ],\n",
       "       [0.05464611, 0.        , 0.96260817, 1.11419625]])"
      ]
     },
     "execution_count": 39,
     "metadata": {},
     "output_type": "execute_result"
    }
   ],
   "source": [
    "data[data<0]=0\n",
    "data"
   ]
  },
  {
   "cell_type": "code",
   "execution_count": 41,
   "metadata": {},
   "outputs": [
    {
     "data": {
      "text/plain": [
       "array([[7.        , 7.        , 7.        , 7.        ],\n",
       "       [1.40697747, 0.10944824, 0.27864003, 0.56909743],\n",
       "       [7.        , 7.        , 7.        , 7.        ],\n",
       "       [7.        , 7.        , 7.        , 7.        ],\n",
       "       [7.        , 7.        , 7.        , 7.        ],\n",
       "       [1.04276638, 0.        , 0.        , 0.2743693 ],\n",
       "       [0.05464611, 0.        , 0.96260817, 1.11419625]])"
      ]
     },
     "execution_count": 41,
     "metadata": {},
     "output_type": "execute_result"
    }
   ],
   "source": [
    "data[names !='Joe']=7\n",
    "data"
   ]
  }
 ],
 "metadata": {
  "kernelspec": {
   "display_name": "Python 3.10.4 64-bit",
   "language": "python",
   "name": "python3"
  },
  "language_info": {
   "codemirror_mode": {
    "name": "ipython",
    "version": 3
   },
   "file_extension": ".py",
   "mimetype": "text/x-python",
   "name": "python",
   "nbconvert_exporter": "python",
   "pygments_lexer": "ipython3",
   "version": "3.10.4"
  },
  "orig_nbformat": 4,
  "vscode": {
   "interpreter": {
    "hash": "b4f27d9b98637a93dfc92790c67a6714c8bfd98755bed637fb445c0198654de1"
   }
  }
 },
 "nbformat": 4,
 "nbformat_minor": 2
}
