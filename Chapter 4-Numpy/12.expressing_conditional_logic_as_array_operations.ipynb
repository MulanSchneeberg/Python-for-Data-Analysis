{
 "cells": [
  {
   "cell_type": "markdown",
   "metadata": {},
   "source": [
    "The ***numpy.where*** function is a vectorized version of the ternary expression x if condition else y. Suppose we had a boolean array and two arrays of values"
   ]
  },
  {
   "cell_type": "code",
   "execution_count": 2,
   "metadata": {},
   "outputs": [
    {
     "data": {
      "text/plain": [
       "array([1, 2, 1, 4, 1])"
      ]
     },
     "execution_count": 2,
     "metadata": {},
     "output_type": "execute_result"
    }
   ],
   "source": [
    "\n",
    "import numpy as np\n",
    "x=np.array([1,2,0,4,5])\n",
    "y=np.array([1,2,1,1,1])\n",
    "condition=np.array([True, True, False, True, False])\n",
    "result=np.where(condition, x,y)\n",
    "result"
   ]
  },
  {
   "cell_type": "markdown",
   "metadata": {},
   "source": [
    "The second and the thrid arguments to np.where do not have to be arrays. One or both of them can be scalars. A typical use of where in data analysis is to produce a new array of vlaues based on another array."
   ]
  },
  {
   "cell_type": "markdown",
   "metadata": {},
   "source": [
    "Replace negative values to -1 and positive values to 1"
   ]
  },
  {
   "cell_type": "code",
   "execution_count": 4,
   "metadata": {},
   "outputs": [
    {
     "data": {
      "text/plain": [
       "array([[-1.68898551, -2.39194532,  1.01252741, -1.48183044],\n",
       "       [ 0.30137303, -0.25174339, -1.87272564,  1.20723268],\n",
       "       [-0.54802661,  1.16753283,  0.94370426,  0.5725562 ],\n",
       "       [-0.50720035,  0.71925359,  0.5827683 ,  1.47300213]])"
      ]
     },
     "execution_count": 4,
     "metadata": {},
     "output_type": "execute_result"
    }
   ],
   "source": [
    "arr=np.random.randn(4,4)\n",
    "arr"
   ]
  },
  {
   "cell_type": "code",
   "execution_count": 6,
   "metadata": {},
   "outputs": [
    {
     "data": {
      "text/plain": [
       "array([[-1, -1,  1, -1],\n",
       "       [ 1, -1, -1,  1],\n",
       "       [-1,  1,  1,  1],\n",
       "       [-1,  1,  1,  1]])"
      ]
     },
     "execution_count": 6,
     "metadata": {},
     "output_type": "execute_result"
    }
   ],
   "source": [
    "np.where(arr>0, 1, -1)"
   ]
  },
  {
   "cell_type": "code",
   "execution_count": 7,
   "metadata": {},
   "outputs": [
    {
     "data": {
      "text/plain": [
       "array([[-1.68898551, -2.39194532,  2.        , -1.48183044],\n",
       "       [ 2.        , -0.25174339, -1.87272564,  2.        ],\n",
       "       [-0.54802661,  2.        ,  2.        ,  2.        ],\n",
       "       [-0.50720035,  2.        ,  2.        ,  2.        ]])"
      ]
     },
     "execution_count": 7,
     "metadata": {},
     "output_type": "execute_result"
    }
   ],
   "source": [
    "np.where(arr>0, 2, arr)"
   ]
  },
  {
   "cell_type": "code",
   "execution_count": 8,
   "metadata": {},
   "outputs": [
    {
     "data": {
      "text/plain": [
       "array([[-2.        , -2.        ,  1.01252741, -2.        ],\n",
       "       [ 0.30137303, -2.        , -2.        ,  1.20723268],\n",
       "       [-2.        ,  1.16753283,  0.94370426,  0.5725562 ],\n",
       "       [-2.        ,  0.71925359,  0.5827683 ,  1.47300213]])"
      ]
     },
     "execution_count": 8,
     "metadata": {},
     "output_type": "execute_result"
    }
   ],
   "source": [
    "np.where(arr>0, arr, -2)"
   ]
  }
 ],
 "metadata": {
  "kernelspec": {
   "display_name": "Python 3.10.4 64-bit",
   "language": "python",
   "name": "python3"
  },
  "language_info": {
   "codemirror_mode": {
    "name": "ipython",
    "version": 3
   },
   "file_extension": ".py",
   "mimetype": "text/x-python",
   "name": "python",
   "nbconvert_exporter": "python",
   "pygments_lexer": "ipython3",
   "version": "3.10.4"
  },
  "orig_nbformat": 4,
  "vscode": {
   "interpreter": {
    "hash": "b4f27d9b98637a93dfc92790c67a6714c8bfd98755bed637fb445c0198654de1"
   }
  }
 },
 "nbformat": 4,
 "nbformat_minor": 2
}
