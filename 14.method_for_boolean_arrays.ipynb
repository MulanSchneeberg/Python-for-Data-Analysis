{
 "cells": [
  {
   "cell_type": "markdown",
   "metadata": {},
   "source": [
    "Boolean values are coercted to 1 (True) and 0 (False). Thus ***sum*** is often used as a means of acounting True values in a boolean array"
   ]
  },
  {
   "cell_type": "code",
   "execution_count": 10,
   "metadata": {},
   "outputs": [
    {
     "data": {
      "text/plain": [
       "array([ 1.68969522,  0.75153903,  1.88007191, -0.23772874,  0.42260892,\n",
       "        0.06990349,  0.53088601,  1.69818733, -0.65381962, -0.73052296,\n",
       "        1.35762537, -0.95229903, -1.07663174, -1.00694272,  0.42259061,\n",
       "       -0.86808896,  0.31396502,  0.0818423 , -0.48885992, -1.65897274,\n",
       "       -1.25422279, -1.47535766, -0.46602211,  0.46212691, -0.06109219,\n",
       "       -0.18713702, -0.23637609,  1.12422942, -1.09857682,  0.34460189,\n",
       "       -0.01695234, -0.61298353, -0.12947599,  0.14129814,  0.24333512,\n",
       "       -2.56477896,  0.06422116, -1.34494061, -0.13073171,  0.131635  ,\n",
       "       -0.17726672, -1.43872488,  2.24891522, -1.00683196,  1.77834959,\n",
       "        0.56589889, -0.26790379,  0.66780017, -0.63438046,  0.16778241,\n",
       "        1.55023024, -0.95456168, -1.30470571, -0.76325338, -2.9261944 ,\n",
       "        0.32183414,  1.48069358, -1.06392112, -0.60828225,  0.44414844,\n",
       "       -0.30150762,  0.63323451,  2.00073414,  0.47236967,  0.26416675,\n",
       "       -0.5683912 ,  0.43792842, -1.87509041,  1.1428248 , -0.50040174,\n",
       "       -1.94430148, -0.66154082, -0.66137742, -0.28260678, -1.46779218,\n",
       "       -1.22763265,  0.12211734,  0.83961965, -0.72003898, -1.18398244,\n",
       "        0.7424592 ,  0.43137691,  0.76080181,  1.75175081, -0.84559914,\n",
       "        0.25679263, -0.06065625,  0.06144939,  2.66372063,  1.53469113,\n",
       "       -0.59466111, -0.76878311, -1.00866236,  0.22278025,  0.64406167,\n",
       "        1.03070387, -1.06648519,  1.11916641, -0.99439897,  0.03799556])"
      ]
     },
     "execution_count": 10,
     "metadata": {},
     "output_type": "execute_result"
    }
   ],
   "source": [
    "import numpy as np\n",
    "arr=np.random.randn(100)\n",
    "arr"
   ]
  },
  {
   "cell_type": "code",
   "execution_count": 11,
   "metadata": {},
   "outputs": [
    {
     "data": {
      "text/plain": [
       "array([ True,  True,  True, False,  True,  True,  True,  True, False,\n",
       "       False,  True, False, False, False,  True, False,  True,  True,\n",
       "       False, False, False, False, False,  True, False, False, False,\n",
       "        True, False,  True, False, False, False,  True,  True, False,\n",
       "        True, False, False,  True, False, False,  True, False,  True,\n",
       "        True, False,  True, False,  True,  True, False, False, False,\n",
       "       False,  True,  True, False, False,  True, False,  True,  True,\n",
       "        True,  True, False,  True, False,  True, False, False, False,\n",
       "       False, False, False, False,  True,  True, False, False,  True,\n",
       "        True,  True,  True, False,  True, False,  True,  True,  True,\n",
       "       False, False, False,  True,  True,  True, False,  True, False,\n",
       "        True])"
      ]
     },
     "execution_count": 11,
     "metadata": {},
     "output_type": "execute_result"
    }
   ],
   "source": [
    "arr>0"
   ]
  },
  {
   "cell_type": "code",
   "execution_count": 12,
   "metadata": {},
   "outputs": [
    {
     "data": {
      "text/plain": [
       "48"
      ]
     },
     "execution_count": 12,
     "metadata": {},
     "output_type": "execute_result"
    }
   ],
   "source": [
    "(arr>0).sum() # number of positive numbers"
   ]
  },
  {
   "cell_type": "markdown",
   "metadata": {},
   "source": [
    "***np.any()*** on boolean arrays"
   ]
  },
  {
   "cell_type": "code",
   "execution_count": 13,
   "metadata": {},
   "outputs": [
    {
     "data": {
      "text/plain": [
       "True"
      ]
     },
     "execution_count": 13,
     "metadata": {},
     "output_type": "execute_result"
    }
   ],
   "source": [
    "(arr>0).any() # if one or more values in an array is True"
   ]
  },
  {
   "cell_type": "code",
   "execution_count": 14,
   "metadata": {},
   "outputs": [
    {
     "data": {
      "text/plain": [
       "False"
      ]
     },
     "execution_count": 14,
     "metadata": {},
     "output_type": "execute_result"
    }
   ],
   "source": [
    "(arr>0).all()# if all values in an array is True"
   ]
  }
 ],
 "metadata": {
  "kernelspec": {
   "display_name": "Python 3.10.4 64-bit",
   "language": "python",
   "name": "python3"
  },
  "language_info": {
   "codemirror_mode": {
    "name": "ipython",
    "version": 3
   },
   "file_extension": ".py",
   "mimetype": "text/x-python",
   "name": "python",
   "nbconvert_exporter": "python",
   "pygments_lexer": "ipython3",
   "version": "3.10.4"
  },
  "orig_nbformat": 4,
  "vscode": {
   "interpreter": {
    "hash": "b4f27d9b98637a93dfc92790c67a6714c8bfd98755bed637fb445c0198654de1"
   }
  }
 },
 "nbformat": 4,
 "nbformat_minor": 2
}
